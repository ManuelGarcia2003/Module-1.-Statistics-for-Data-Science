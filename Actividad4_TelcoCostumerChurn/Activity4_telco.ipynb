{
 "cells": [
  {
   "cell_type": "markdown",
   "id": "f50a627e",
   "metadata": {},
   "source": [
    "# 1. General Costumer Profile"
   ]
  },
  {
   "cell_type": "markdown",
   "id": "2a783dd8",
   "metadata": {},
   "source": [
    "### 1.1 Calculate the despcriptive statistics for the tenure, MonthlyCharges and TotalCharges "
   ]
  },
  {
   "cell_type": "code",
   "execution_count": 2,
   "id": "50104824",
   "metadata": {},
   "outputs": [
    {
     "data": {
      "text/html": [
       "<div>\n",
       "<style scoped>\n",
       "    .dataframe tbody tr th:only-of-type {\n",
       "        vertical-align: middle;\n",
       "    }\n",
       "\n",
       "    .dataframe tbody tr th {\n",
       "        vertical-align: top;\n",
       "    }\n",
       "\n",
       "    .dataframe thead th {\n",
       "        text-align: right;\n",
       "    }\n",
       "</style>\n",
       "<table border=\"1\" class=\"dataframe\">\n",
       "  <thead>\n",
       "    <tr style=\"text-align: right;\">\n",
       "      <th></th>\n",
       "      <th>customerID</th>\n",
       "      <th>gender</th>\n",
       "      <th>SeniorCitizen</th>\n",
       "      <th>Partner</th>\n",
       "      <th>Dependents</th>\n",
       "      <th>tenure</th>\n",
       "      <th>PhoneService</th>\n",
       "      <th>MultipleLines</th>\n",
       "      <th>InternetService</th>\n",
       "      <th>OnlineSecurity</th>\n",
       "      <th>...</th>\n",
       "      <th>DeviceProtection</th>\n",
       "      <th>TechSupport</th>\n",
       "      <th>StreamingTV</th>\n",
       "      <th>StreamingMovies</th>\n",
       "      <th>Contract</th>\n",
       "      <th>PaperlessBilling</th>\n",
       "      <th>PaymentMethod</th>\n",
       "      <th>MonthlyCharges</th>\n",
       "      <th>TotalCharges</th>\n",
       "      <th>Churn</th>\n",
       "    </tr>\n",
       "  </thead>\n",
       "  <tbody>\n",
       "    <tr>\n",
       "      <th>0</th>\n",
       "      <td>7590-VHVEG</td>\n",
       "      <td>Female</td>\n",
       "      <td>0</td>\n",
       "      <td>Yes</td>\n",
       "      <td>No</td>\n",
       "      <td>1</td>\n",
       "      <td>No</td>\n",
       "      <td>No phone service</td>\n",
       "      <td>DSL</td>\n",
       "      <td>No</td>\n",
       "      <td>...</td>\n",
       "      <td>No</td>\n",
       "      <td>No</td>\n",
       "      <td>No</td>\n",
       "      <td>No</td>\n",
       "      <td>Month-to-month</td>\n",
       "      <td>Yes</td>\n",
       "      <td>Electronic check</td>\n",
       "      <td>29.85</td>\n",
       "      <td>29.85</td>\n",
       "      <td>No</td>\n",
       "    </tr>\n",
       "    <tr>\n",
       "      <th>1</th>\n",
       "      <td>5575-GNVDE</td>\n",
       "      <td>Male</td>\n",
       "      <td>0</td>\n",
       "      <td>No</td>\n",
       "      <td>No</td>\n",
       "      <td>34</td>\n",
       "      <td>Yes</td>\n",
       "      <td>No</td>\n",
       "      <td>DSL</td>\n",
       "      <td>Yes</td>\n",
       "      <td>...</td>\n",
       "      <td>Yes</td>\n",
       "      <td>No</td>\n",
       "      <td>No</td>\n",
       "      <td>No</td>\n",
       "      <td>One year</td>\n",
       "      <td>No</td>\n",
       "      <td>Mailed check</td>\n",
       "      <td>56.95</td>\n",
       "      <td>1889.5</td>\n",
       "      <td>No</td>\n",
       "    </tr>\n",
       "    <tr>\n",
       "      <th>2</th>\n",
       "      <td>3668-QPYBK</td>\n",
       "      <td>Male</td>\n",
       "      <td>0</td>\n",
       "      <td>No</td>\n",
       "      <td>No</td>\n",
       "      <td>2</td>\n",
       "      <td>Yes</td>\n",
       "      <td>No</td>\n",
       "      <td>DSL</td>\n",
       "      <td>Yes</td>\n",
       "      <td>...</td>\n",
       "      <td>No</td>\n",
       "      <td>No</td>\n",
       "      <td>No</td>\n",
       "      <td>No</td>\n",
       "      <td>Month-to-month</td>\n",
       "      <td>Yes</td>\n",
       "      <td>Mailed check</td>\n",
       "      <td>53.85</td>\n",
       "      <td>108.15</td>\n",
       "      <td>Yes</td>\n",
       "    </tr>\n",
       "    <tr>\n",
       "      <th>3</th>\n",
       "      <td>7795-CFOCW</td>\n",
       "      <td>Male</td>\n",
       "      <td>0</td>\n",
       "      <td>No</td>\n",
       "      <td>No</td>\n",
       "      <td>45</td>\n",
       "      <td>No</td>\n",
       "      <td>No phone service</td>\n",
       "      <td>DSL</td>\n",
       "      <td>Yes</td>\n",
       "      <td>...</td>\n",
       "      <td>Yes</td>\n",
       "      <td>Yes</td>\n",
       "      <td>No</td>\n",
       "      <td>No</td>\n",
       "      <td>One year</td>\n",
       "      <td>No</td>\n",
       "      <td>Bank transfer (automatic)</td>\n",
       "      <td>42.30</td>\n",
       "      <td>1840.75</td>\n",
       "      <td>No</td>\n",
       "    </tr>\n",
       "    <tr>\n",
       "      <th>4</th>\n",
       "      <td>9237-HQITU</td>\n",
       "      <td>Female</td>\n",
       "      <td>0</td>\n",
       "      <td>No</td>\n",
       "      <td>No</td>\n",
       "      <td>2</td>\n",
       "      <td>Yes</td>\n",
       "      <td>No</td>\n",
       "      <td>Fiber optic</td>\n",
       "      <td>No</td>\n",
       "      <td>...</td>\n",
       "      <td>No</td>\n",
       "      <td>No</td>\n",
       "      <td>No</td>\n",
       "      <td>No</td>\n",
       "      <td>Month-to-month</td>\n",
       "      <td>Yes</td>\n",
       "      <td>Electronic check</td>\n",
       "      <td>70.70</td>\n",
       "      <td>151.65</td>\n",
       "      <td>Yes</td>\n",
       "    </tr>\n",
       "  </tbody>\n",
       "</table>\n",
       "<p>5 rows × 21 columns</p>\n",
       "</div>"
      ],
      "text/plain": [
       "   customerID  gender  SeniorCitizen Partner Dependents  tenure PhoneService  \\\n",
       "0  7590-VHVEG  Female              0     Yes         No       1           No   \n",
       "1  5575-GNVDE    Male              0      No         No      34          Yes   \n",
       "2  3668-QPYBK    Male              0      No         No       2          Yes   \n",
       "3  7795-CFOCW    Male              0      No         No      45           No   \n",
       "4  9237-HQITU  Female              0      No         No       2          Yes   \n",
       "\n",
       "      MultipleLines InternetService OnlineSecurity  ... DeviceProtection  \\\n",
       "0  No phone service             DSL             No  ...               No   \n",
       "1                No             DSL            Yes  ...              Yes   \n",
       "2                No             DSL            Yes  ...               No   \n",
       "3  No phone service             DSL            Yes  ...              Yes   \n",
       "4                No     Fiber optic             No  ...               No   \n",
       "\n",
       "  TechSupport StreamingTV StreamingMovies        Contract PaperlessBilling  \\\n",
       "0          No          No              No  Month-to-month              Yes   \n",
       "1          No          No              No        One year               No   \n",
       "2          No          No              No  Month-to-month              Yes   \n",
       "3         Yes          No              No        One year               No   \n",
       "4          No          No              No  Month-to-month              Yes   \n",
       "\n",
       "               PaymentMethod MonthlyCharges  TotalCharges Churn  \n",
       "0           Electronic check          29.85         29.85    No  \n",
       "1               Mailed check          56.95        1889.5    No  \n",
       "2               Mailed check          53.85        108.15   Yes  \n",
       "3  Bank transfer (automatic)          42.30       1840.75    No  \n",
       "4           Electronic check          70.70        151.65   Yes  \n",
       "\n",
       "[5 rows x 21 columns]"
      ]
     },
     "execution_count": 2,
     "metadata": {},
     "output_type": "execute_result"
    }
   ],
   "source": [
    "# Acciones de este bloque: cargas archivo csv y librerias\n",
    "\n",
    "import pandas as pd\n",
    "import numpy as np\n",
    "import matplotlib.pyplot as plt\n",
    "import seaborn as sns\n",
    "\n",
    "\n",
    "#carga del archivo csv\n",
    "\n",
    "telco = pd.read_csv('Telco_Customer_Churn.csv')\n",
    "telco.head()"
   ]
  },
  {
   "cell_type": "code",
   "execution_count": 5,
   "id": "a9528cbb",
   "metadata": {},
   "outputs": [
    {
     "name": "stdout",
     "output_type": "stream",
     "text": [
      "<class 'pandas.core.frame.DataFrame'>\n",
      "Index: 7032 entries, 0 to 7042\n",
      "Data columns (total 20 columns):\n",
      " #   Column            Non-Null Count  Dtype  \n",
      "---  ------            --------------  -----  \n",
      " 0   gender            7032 non-null   object \n",
      " 1   SeniorCitizen     7032 non-null   int64  \n",
      " 2   Partner           7032 non-null   object \n",
      " 3   Dependents        7032 non-null   object \n",
      " 4   tenure            7032 non-null   int64  \n",
      " 5   PhoneService      7032 non-null   object \n",
      " 6   MultipleLines     7032 non-null   object \n",
      " 7   InternetService   7032 non-null   object \n",
      " 8   OnlineSecurity    7032 non-null   object \n",
      " 9   OnlineBackup      7032 non-null   object \n",
      " 10  DeviceProtection  7032 non-null   object \n",
      " 11  TechSupport       7032 non-null   object \n",
      " 12  StreamingTV       7032 non-null   object \n",
      " 13  StreamingMovies   7032 non-null   object \n",
      " 14  Contract          7032 non-null   object \n",
      " 15  PaperlessBilling  7032 non-null   object \n",
      " 16  PaymentMethod     7032 non-null   object \n",
      " 17  MonthlyCharges    7032 non-null   float64\n",
      " 18  TotalCharges      7032 non-null   float64\n",
      " 19  Churn             7032 non-null   object \n",
      "dtypes: float64(2), int64(2), object(16)\n",
      "memory usage: 1.1+ MB\n",
      "<class 'pandas.core.frame.DataFrame'>\n",
      "RangeIndex: 7032 entries, 0 to 7031\n",
      "Data columns (total 20 columns):\n",
      " #   Column            Non-Null Count  Dtype  \n",
      "---  ------            --------------  -----  \n",
      " 0   gender            7032 non-null   object \n",
      " 1   SeniorCitizen     7032 non-null   int64  \n",
      " 2   Partner           7032 non-null   object \n",
      " 3   Dependents        7032 non-null   object \n",
      " 4   tenure            7032 non-null   int64  \n",
      " 5   PhoneService      7032 non-null   object \n",
      " 6   MultipleLines     7032 non-null   object \n",
      " 7   InternetService   7032 non-null   object \n",
      " 8   OnlineSecurity    7032 non-null   object \n",
      " 9   OnlineBackup      7032 non-null   object \n",
      " 10  DeviceProtection  7032 non-null   object \n",
      " 11  TechSupport       7032 non-null   object \n",
      " 12  StreamingTV       7032 non-null   object \n",
      " 13  StreamingMovies   7032 non-null   object \n",
      " 14  Contract          7032 non-null   object \n",
      " 15  PaperlessBilling  7032 non-null   object \n",
      " 16  PaymentMethod     7032 non-null   object \n",
      " 17  MonthlyCharges    7032 non-null   float64\n",
      " 18  TotalCharges      7032 non-null   float64\n",
      " 19  Churn             7032 non-null   object \n",
      "dtypes: float64(2), int64(2), object(16)\n",
      "memory usage: 1.1+ MB\n"
     ]
    }
   ],
   "source": [
    "# acciones de este bloque: entendimiento de los datos y limpieza\n",
    "#solo se limpian las columnas que se van a usar en el analisis: tenure, MonthlyCharges y TotalCharges\n",
    "# \n",
    "telco.info()\n",
    "telco.isnull().sum()\n",
    "\n",
    "# convertir TotalCharges a numérico, forzar errores a NaN, eliminar filas con NaN en TotalCharges y resetear el índice\n",
    "telco['TotalCharges'] = pd.to_numeric(telco['TotalCharges'], errors='coerce')\n",
    "telco = telco.dropna(subset=['TotalCharges'])\n",
    "telco = telco.reset_index(drop=True)\n",
    "telco.info() "
   ]
  },
  {
   "cell_type": "code",
   "execution_count": 9,
   "id": "0010fcad",
   "metadata": {},
   "outputs": [
    {
     "name": "stdout",
     "output_type": "stream",
     "text": [
      "            tenure  MonthlyCharges  TotalCharges\n",
      "count  7032.000000     7032.000000   7032.000000\n",
      "mean     32.421786       64.798208   2283.300441\n",
      "std      24.545260       30.085974   2266.771362\n",
      "min       1.000000       18.250000     18.800000\n",
      "25%       9.000000       35.587500    401.450000\n",
      "50%      29.000000       70.350000   1397.475000\n",
      "75%      55.000000       89.862500   3794.737500\n",
      "max      72.000000      118.750000   8684.800000\n",
      "Mean tenure: 32.421786120591584\n",
      "Median tenure: 29.0\n",
      "Mean MonthlyCharges: 64.79820819112628\n",
      "Median MonthlyCharges: 70.35\n",
      "Mean TotalCharges: 2283.300440841866\n",
      "Median TotalCharges: 1397.475\n"
     ]
    }
   ],
   "source": [
    "# estadisticas descriptivas de las columnas tenure, MonthlyCharges y TotalCharges\n",
    "print(telco[['tenure', 'MonthlyCharges', 'TotalCharges']].describe())\n",
    "\n",
    "# media y mediana de tunure\n",
    "mean_tenure = telco['tenure'].mean()\n",
    "median_tenure = telco['tenure'].median()\n",
    "print(f\"Mean tenure: {mean_tenure}\")\n",
    "print(f\"Median tenure: {median_tenure}\")\n",
    "\n",
    "# media y mediana de MonthlyCharges\n",
    "mean_monthly = telco['MonthlyCharges'].mean()\n",
    "median_monthly = telco['MonthlyCharges'].median()\n",
    "print(f\"Mean MonthlyCharges: {mean_monthly}\")\n",
    "print(f\"Median MonthlyCharges: {median_monthly}\")\n",
    "\n",
    "# media y mediana de TotalCharges\n",
    "mean_total = telco['TotalCharges'].mean()\n",
    "median_total = telco['TotalCharges'].median()\n",
    "print(f\"Mean TotalCharges: {mean_total}\")\n",
    "print(f\"Median TotalCharges: {median_total}\")   "
   ]
  },
  {
   "cell_type": "code",
   "execution_count": null,
   "id": "7364ab4e",
   "metadata": {},
   "outputs": [],
   "source": [
    "# By comparing the mean and median of tenure, how would you describe the company's \"typical\" customer?\n",
    "# La media es 32.42 y la mediana es 29.0, lo que indica que la distribución de tenure está ligeramente sesgada a la derecha.\n",
    "# Esto sugiere que la mayoría de los clientes tienen un tenure cercano a 29 meses, pero hay algunos clientes con tenures mucho más altos que elevan la media.\n",
    "# Por lo tanto, el \"cliente típico\" de la empresa probablemente tenga un tenure de alrededor de 29 meses, pero hay una minoría de clientes que han estado con la empresa durante un período mucho más largo.\n",
    "\n",
    "# En cuanto a montly charges y total charges, la media y la mediana son bastante similares, lo que sugiere que la distribución de estos cargos es más simétrica.\n",
    "# Esto indica que la mayoría de los clientes tienen cargo"
   ]
  },
  {
   "cell_type": "markdown",
   "id": "6fed7a2f",
   "metadata": {},
   "source": [
    "**By comparing the mean and median of tenure, how would you describe the company's \"typical\" customer?**\n",
    "\n",
    "Los clientes suelen permanecer con la compañía alrededor de 2 anos y medio, se refleja un promedio de permanencia de 32.42 meses y una mediana de 29 meses. La ligera diferencia entre ambas medidas indica que la distribución se encuentra algo sesgada hacia la derecha, debido a un grupo reducido de usuarios con contratos muy prolongados que elevan la media. En cuanto a los pagos mensuales, el gasto típico se sitúa en torno a 64.79 USD, mientras que la mediana de 70.35 USD muestra que la mayoría se concentra en planes de costo medio, aunque existen tanto opciones más económicas (cerca de 18 USD) como planes más elevados (hasta unos 118 USD). Finalmente, el desembolso acumulado de los clientes alcanza un promedio de 2283 USD, con una desviación estándar amplia (~2266 USD), lo cual resulta esperable ya que este valor depende directamente de la duración del contrato y del tipo de servicio adquirido. Dicho lo anterior un usuario tipico seria este: esta con la empresa 29 meses, su factura mensual es de 64.79 USD y ha gastado unos 2283.3 USD a lo largo de su contrato"
   ]
  },
  {
   "cell_type": "markdown",
   "id": "d82e3691",
   "metadata": {},
   "source": [
    "### 3. Distribution Visualization"
   ]
  },
  {
   "cell_type": "markdown",
   "id": "f08c8758",
   "metadata": {},
   "source": [
    "Generate **histograms** for the tenure and MonthlyCharges columns"
   ]
  },
  {
   "cell_type": "code",
   "execution_count": 10,
   "id": "8190605b",
   "metadata": {},
   "outputs": [
    {
     "data": {
      "image/png": "[encoded data removed]",
      "text/plain": [
       "<Figure size 1400x600 with 2 Axes>"
      ]
     },
     "metadata": {},
     "output_type": "display_data"
    }
   ],
   "source": [
    "# acciones de este bloque: visualizacion de distribuciones\n",
    "# Generar histogramas para las columnas tenure y MonthlyCharges\n",
    "\n",
    "plt.figure(figsize=(14, 6))\n",
    "plt.subplot(1, 2, 1)\n",
    "sns.histplot(telco['tenure'], bins=30, kde=True, color='blue')\n",
    "plt.title('Distribición de Tenure')\n",
    "plt.xlabel('Tenure (meses)')\n",
    "plt.ylabel('Número de Clientes')\n",
    "\n",
    "plt.subplot(1, 2, 2)\n",
    "sns.histplot(telco['MonthlyCharges'], bins=30, kde=True, color='green')\n",
    "plt.title('Distribición de Monthly Charges')\n",
    "plt.xlabel('Monthly Charges (USD)')\n",
    "plt.ylabel('Número de Clientes')\n",
    "plt.tight_layout()\n",
    "plt.show()"
   ]
  },
  {
   "cell_type": "markdown",
   "id": "88bc227d",
   "metadata": {},
   "source": [
    "**Describe the shape of each Distribution.Are they simitric,skewed? What interesting patterns or peaks do you observe?**\n",
    "\n",
    "***Distribución de Tenure***\n",
    "\n",
    "- La forma de la distribución no es simétrica, sino que presenta varios picos en valores específicos.\n",
    "\n",
    "- Se observa una gran concentración de clientes con una permanencia muy corta (cerca de 0–1 meses), lo que sugiere una tasa de abandono temprana.\n",
    "\n",
    "- También hay un segundo pico notable en el extremo derecho (alrededor de los 70 meses), lo que indica que otro grupo importante de clientes permanece por largos periodos con la empresa.\n",
    "\n",
    "- En el rango intermedio, la densidad es más baja y dispersa.\n",
    "\n",
    "Esto refleja una distribución multimodal y sesgada a la derecha, con clientes que tienden a abandonar muy rápido o a quedarse por varios años.\n",
    "\n",
    "\n",
    "***Distribución de Monthly Charges***\n",
    "\n",
    "- La distribución de los cargos mensuales tampoco es completamente simétrica.\n",
    "\n",
    "- Se aprecia un pico fuerte en los valores más bajos (~20 USD), que corresponde a clientes en planes básicos.\n",
    "\n",
    "- Después, la distribución se dispersa, con mayor concentración entre 70 y 90 USD, lo que coincide con los planes de costo medio-alto.\n",
    "\n",
    "- El rango se extiende hasta ~120 USD, mostrando que hay clientes con planes de mayor valor.\n",
    "\n",
    "En este caso, la distribución es sesgada hacia la izquierda, con una gran cantidad de clientes en planes económicos, pero con una cola que se extiende hacia valores más altos.\n"
   ]
  },
  {
   "cell_type": "markdown",
   "id": "30e24823",
   "metadata": {},
   "source": [
    "### 3. Segment Analysis (Churn vs. No Churn)"
   ]
  },
  {
   "cell_type": "markdown",
   "id": "8869cab1",
   "metadata": {},
   "source": [
    "3.1 Group the data by the Churn column and calculate the median for tenure and\n",
    "MonthlyCharges for each group. What key differences do you notice?"
   ]
  },
  {
   "cell_type": "code",
   "execution_count": 12,
   "id": "542d9f2a",
   "metadata": {},
   "outputs": [
    {
     "name": "stdout",
     "output_type": "stream",
     "text": [
      "       tenure  MonthlyCharges\n",
      "Churn                        \n",
      "No       38.0           64.45\n",
      "Yes      10.0           79.65\n"
     ]
    }
   ],
   "source": [
    "# acciones de este bloque: agrupacion por churn y calcularla la mediana para tenure y MonthlyCharges para cada grupo\n",
    "# Agrupar por churn y calcular la mediana para tenure y MonthlyCharges para cada grupo\n",
    "\n",
    "churn_groups = telco.groupby('Churn')[['tenure', 'MonthlyCharges']].median()\n",
    "print(churn_groups)"
   ]
  },
  {
   "cell_type": "markdown",
   "id": "15a7ae68",
   "metadata": {},
   "source": [
    "Con base en los resultados del análisis de segmentos (Churn vs. No Churn):\n",
    "\n",
    "*Clientes que no abandonan (No Churn):*\n",
    "\n",
    "* Tienen una mediana de permanencia (tenure) de 38 meses, lo cual indica una relación más estable y duradera con la empresa.\n",
    "\n",
    "* Sus cargos mensuales medios son de 64.45 USD, es decir, tienden a ubicarse en planes de costo medio.\n",
    "\n",
    "*Clientes que sí abandonan (Churn):*\n",
    "\n",
    "* Presentan una mediana de permanencia de solo 10 meses, lo que muestra que la mayoría deja el servicio en su primer año.\n",
    "\n",
    "* Sus cargos mensuales son más altos (79.65 USD), lo cual sugiere que los planes más caros están asociados con mayor probabilidad de abandono.\n",
    "\n",
    "\n",
    "*Conclusión:*\n",
    "Los clientes que se van tienden a pagar más por mes y a permanecer mucho menos tiempo que aquellos que se quedan. Esto indica que el precio mensual elevado puede ser un factor importante en la deserción, y que los planes de costo medio favorecen la retención."
   ]
  },
  {
   "cell_type": "markdown",
   "id": "39d8447c",
   "metadata": {},
   "source": [
    "3.2 Create a box plot that compares the distribution of MonthlyCharges between customers\n",
    "who churned (Churn='Yes') and those who did not (Churn='No'). What insight does the\n",
    "chart give you?"
   ]
  },
  {
   "cell_type": "code",
   "execution_count": 13,
   "id": "d2ea7a0a",
   "metadata": {},
   "outputs": [
    {
     "data": {
      "image/png": "[encoded data removed]",
      "text/plain": [
       "<Figure size 1000x600 with 1 Axes>"
      ]
     },
     "metadata": {},
     "output_type": "display_data"
    }
   ],
   "source": [
    "# acciones de este bloque: crear un box plot que compare la distribucion de MonthlyCharges entre \n",
    "# clientes que churned (Churn='Yes') y los que no (Churn='No')\n",
    "\n",
    "\n",
    "plt.figure(figsize=(10, 6))\n",
    "sns.boxplot(x='Churn', y='MonthlyCharges', data=telco)\n",
    "plt.title('Comparación de Monthly Charges por Churn')\n",
    "plt.xlabel('Churn')\n",
    "plt.ylabel('Monthly Charges (USD)')\n",
    "plt.show()"
   ]
  },
  {
   "cell_type": "markdown",
   "id": "bf186bd2",
   "metadata": {},
   "source": [
    "*Clientes que no hacen churn (No):*\n",
    "\n",
    "* La mediana de sus MonthlyCharges está alrededor de los 65 USD, lo que coincide con los planes de costo medio.\n",
    "\n",
    "* El rango  (la “caja”) es más amplio, mostrando que este grupo tiene gran variabilidad en los cargos: desde planes muy bajos (~20 USD) hasta más altos (~90 USD).\n",
    "\n",
    "* También aparecen algunos valores extremos (outliers) en el rango más alto.\n",
    "\n",
    "*Clientes que sí hacen churn (Yes):*\n",
    "\n",
    "* Su mediana es claramente más alta, cercana a los 80 USD.\n",
    "\n",
    "* La distribución está más concentrada en valores elevados, lo que sugiere que la mayoría de quienes abandonan están en planes más caros.\n",
    "\n",
    "* Aunque existe cierta dispersión, el grupo de clientes que hace churn casi no incluye a quienes pagan tarifas muy bajas.\n",
    "\n",
    "El gráfico refuerza la idea de que los cargos mensuales más altos están asociados a mayor probabilidad de churn. Los clientes de planes económicos o medios tienen más probabilidad de mantenerse, mientras que quienes pagan tarifas altas parecen ser más propensos a cancelar el servicio."
   ]
  }
 ],
 "metadata": {
  "kernelspec": {
   "display_name": "ml",
   "language": "python",
   "name": "python3"
  },
  "language_info": {
   "codemirror_mode": {
    "name": "ipython",
    "version": 3
   },
   "file_extension": ".py",
   "mimetype": "text/x-python",
   "name": "python",
   "nbconvert_exporter": "python",
   "pygments_lexer": "ipython3",
   "version": "3.11.13"
  }
 },
 "nbformat": 4,
 "nbformat_minor": 5
}
