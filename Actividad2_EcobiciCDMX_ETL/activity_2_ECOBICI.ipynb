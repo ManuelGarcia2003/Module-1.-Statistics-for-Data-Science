{
 "cells": [
  {
   "metadata": {},
   "cell_type": "markdown",
   "source": "# ETL para datos de ecobici CDMX",
   "id": "c72c0562a5949012"
  },
  {
   "metadata": {},
   "cell_type": "markdown",
   "source": "#  0. Cargar librerías",
   "id": "5ebe136c474257c8"
  },
  {
   "metadata": {
    "ExecuteTime": {
     "end_time": "2025-08-24T23:39:58.367568Z",
     "start_time": "2025-08-24T23:39:58.216814Z"
    }
   },
   "cell_type": "code",
   "source": [
    "# Importar librerías\n",
    "import os\n",
    "import re\n",
    "\n",
    "import pandas as pd\n",
    "import numpy as np\n",
    "import matplotlib.pyplot as plt\n",
    "import seaborn as sns\n",
    "from numba.core.ir_utils import tuple_table_extensions"
   ],
   "id": "c314642de7b2c29c",
   "outputs": [],
   "execution_count": 59
  },
  {
   "metadata": {},
   "cell_type": "markdown",
   "source": "# 1. Extracción",
   "id": "7840590eeb89fc57"
  },
  {
   "metadata": {
    "ExecuteTime": {
     "end_time": "2025-08-24T23:39:59.421569Z",
     "start_time": "2025-08-24T23:39:58.373996Z"
    }
   },
   "cell_type": "code",
   "source": [
    "# 1) cargar datos\n",
    "# Definir ruta de datos\n",
    "data = \"2025-06.csv\"\n",
    "data_frame = pd.read_csv(data)\n",
    "\n",
    "#ver la forma de la data\n",
    "print(\"\\nDimensiones del DataFrame:\", data_frame.shape)\n",
    "print(\"\\nColumnas del DataFrame:\", data_frame.columns)\n",
    "print(\"\\nTipos de datos:\\n\", data_frame.dtypes)"
   ],
   "id": "9f31c1d20b75b0f3",
   "outputs": [
    {
     "name": "stdout",
     "output_type": "stream",
     "text": [
      "\n",
      "Dimensiones del DataFrame: (1578804, 9)\n",
      "\n",
      "Columnas del DataFrame: Index(['Genero_Usuario', 'Edad_Usuario', 'Bici', 'Ciclo_Estacion_Retiro',\n",
      "       'Fecha_Retiro', 'Hora_Retiro', 'Ciclo_EstacionArribo', 'Fecha_Arribo',\n",
      "       'Hora_Arribo'],\n",
      "      dtype='object')\n",
      "\n",
      "Tipos de datos:\n",
      " Genero_Usuario            object\n",
      "Edad_Usuario             float64\n",
      "Bici                       int64\n",
      "Ciclo_Estacion_Retiro     object\n",
      "Fecha_Retiro              object\n",
      "Hora_Retiro               object\n",
      "Ciclo_EstacionArribo      object\n",
      "Fecha_Arribo              object\n",
      "Hora_Arribo               object\n",
      "dtype: object\n"
     ]
    }
   ],
   "execution_count": 60
  },
  {
   "metadata": {
    "ExecuteTime": {
     "end_time": "2025-08-24T23:39:59.488029Z",
     "start_time": "2025-08-24T23:39:59.481629Z"
    }
   },
   "cell_type": "code",
   "source": [
    "# Mostrar las primeras filas del DataFrame\n",
    "print(\"\\nPrimeras filas del DataFrame:\\n\")\n",
    "data_frame.head()"
   ],
   "id": "5577f0746d79ea1d",
   "outputs": [
    {
     "name": "stdout",
     "output_type": "stream",
     "text": [
      "\n",
      "Primeras filas del DataFrame:\n",
      "\n"
     ]
    },
    {
     "data": {
      "text/plain": [
       "  Genero_Usuario  Edad_Usuario     Bici Ciclo_Estacion_Retiro Fecha_Retiro  \\\n",
       "0              M          30.0  8384919                   552   31/05/2025   \n",
       "1              F          34.0  4275616                   138   31/05/2025   \n",
       "2              M          27.0  8370249                   596   31/05/2025   \n",
       "3              M          27.0  3430139                   304   31/05/2025   \n",
       "4              M          37.0  8102766                   546   31/05/2025   \n",
       "\n",
       "  Hora_Retiro Ciclo_EstacionArribo Fecha_Arribo Hora_Arribo  \n",
       "0    23:52:42                  491   01/06/2025    00:00:06  \n",
       "1    23:34:45                  036   01/06/2025    00:00:37  \n",
       "2    23:51:42                  618   01/06/2025    00:01:17  \n",
       "3    23:46:27                  578   01/06/2025    00:01:17  \n",
       "4    23:45:14                  052   01/06/2025    00:01:27  "
      ],
      "text/html": [
       "<div>\n",
       "<style scoped>\n",
       "    .dataframe tbody tr th:only-of-type {\n",
       "        vertical-align: middle;\n",
       "    }\n",
       "\n",
       "    .dataframe tbody tr th {\n",
       "        vertical-align: top;\n",
       "    }\n",
       "\n",
       "    .dataframe thead th {\n",
       "        text-align: right;\n",
       "    }\n",
       "</style>\n",
       "<table border=\"1\" class=\"dataframe\">\n",
       "  <thead>\n",
       "    <tr style=\"text-align: right;\">\n",
       "      <th></th>\n",
       "      <th>Genero_Usuario</th>\n",
       "      <th>Edad_Usuario</th>\n",
       "      <th>Bici</th>\n",
       "      <th>Ciclo_Estacion_Retiro</th>\n",
       "      <th>Fecha_Retiro</th>\n",
       "      <th>Hora_Retiro</th>\n",
       "      <th>Ciclo_EstacionArribo</th>\n",
       "      <th>Fecha_Arribo</th>\n",
       "      <th>Hora_Arribo</th>\n",
       "    </tr>\n",
       "  </thead>\n",
       "  <tbody>\n",
       "    <tr>\n",
       "      <th>0</th>\n",
       "      <td>M</td>\n",
       "      <td>30.0</td>\n",
       "      <td>8384919</td>\n",
       "      <td>552</td>\n",
       "      <td>31/05/2025</td>\n",
       "      <td>23:52:42</td>\n",
       "      <td>491</td>\n",
       "      <td>01/06/2025</td>\n",
       "      <td>00:00:06</td>\n",
       "    </tr>\n",
       "    <tr>\n",
       "      <th>1</th>\n",
       "      <td>F</td>\n",
       "      <td>34.0</td>\n",
       "      <td>4275616</td>\n",
       "      <td>138</td>\n",
       "      <td>31/05/2025</td>\n",
       "      <td>23:34:45</td>\n",
       "      <td>036</td>\n",
       "      <td>01/06/2025</td>\n",
       "      <td>00:00:37</td>\n",
       "    </tr>\n",
       "    <tr>\n",
       "      <th>2</th>\n",
       "      <td>M</td>\n",
       "      <td>27.0</td>\n",
       "      <td>8370249</td>\n",
       "      <td>596</td>\n",
       "      <td>31/05/2025</td>\n",
       "      <td>23:51:42</td>\n",
       "      <td>618</td>\n",
       "      <td>01/06/2025</td>\n",
       "      <td>00:01:17</td>\n",
       "    </tr>\n",
       "    <tr>\n",
       "      <th>3</th>\n",
       "      <td>M</td>\n",
       "      <td>27.0</td>\n",
       "      <td>3430139</td>\n",
       "      <td>304</td>\n",
       "      <td>31/05/2025</td>\n",
       "      <td>23:46:27</td>\n",
       "      <td>578</td>\n",
       "      <td>01/06/2025</td>\n",
       "      <td>00:01:17</td>\n",
       "    </tr>\n",
       "    <tr>\n",
       "      <th>4</th>\n",
       "      <td>M</td>\n",
       "      <td>37.0</td>\n",
       "      <td>8102766</td>\n",
       "      <td>546</td>\n",
       "      <td>31/05/2025</td>\n",
       "      <td>23:45:14</td>\n",
       "      <td>052</td>\n",
       "      <td>01/06/2025</td>\n",
       "      <td>00:01:27</td>\n",
       "    </tr>\n",
       "  </tbody>\n",
       "</table>\n",
       "</div>"
      ]
     },
     "execution_count": 61,
     "metadata": {},
     "output_type": "execute_result"
    }
   ],
   "execution_count": 61
  },
  {
   "metadata": {},
   "cell_type": "markdown",
   "source": "# 2. Transformación",
   "id": "1e54fea944e25cba"
  },
  {
   "metadata": {
    "ExecuteTime": {
     "end_time": "2025-08-24T23:39:59.769456Z",
     "start_time": "2025-08-24T23:39:59.604751Z"
    }
   },
   "cell_type": "code",
   "source": [
    "# 2) limpieza base de los datos\n",
    "\n",
    "if not isinstance(data_frame, pd.DataFrame):\n",
    "    data_frame = pd.read_csv(\"2025-06.csv\")\n",
    "\n",
    "# columnas normales\n",
    "if not isinstance(data_frame.columns, pd.MultiIndex):\n",
    "    data_frame.rename(\n",
    "        columns=lambda c: c.strip().replace(\" \", \"_\") if isinstance(c, str) else c,\n",
    "        inplace=True\n",
    "    )\n",
    "# columnas tipo MultiIndex\n",
    "else:\n",
    "    data_frame.columns = [\n",
    "        \"_\".join([str(x).strip() for x in col if str(x) != \"None\"]).replace(\" \", \"_\")\n",
    "        for col in data_frame.columns\n",
    "    ]\n",
    "\n",
    "# manejo de valores nulos en la columna Genero_Usuario\n",
    "if \"Genero_Usuario\" in data_frame.columns:\n",
    "    data_frame[\"Genero_Usuario\"] = (\n",
    "        data_frame[\"Genero_Usuario\"]\n",
    "        .astype(str)\n",
    "        .str.strip()\n",
    "        .fillna(\"Desconocido\")\n",
    "    )\n",
    "\n",
    "#edad a numerico, manejo de nan, se usa mediana para reemplazar\n",
    "if \"Edad_Usuario\" in data_frame.columns:\n",
    "    data_frame[\"Edad_Usuario\"] = pd.to_numeric(data_frame[\"Edad_Usuario\"], errors=\"coerce\")\n",
    "    data_frame.loc[(data_frame[\"Edad_Usuario\"] < 10) | (data_frame[\"Edad_Usuario\"] > 90), \"Edad_Usuario\"] = np.nan\n",
    "    med_edad = data_frame[\"Edad_Usuario\"].median()\n",
    "    data_frame[\"Edad_Usuario\"] = data_frame[\"Edad_Usuario\"].fillna(med_edad)"
   ],
   "id": "3414a139dd996a81",
   "outputs": [],
   "execution_count": 62
  },
  {
   "metadata": {
    "ExecuteTime": {
     "end_time": "2025-08-24T23:40:04.524040Z",
     "start_time": "2025-08-24T23:39:59.838117Z"
    }
   },
   "cell_type": "code",
   "source": [
    "# 3) fecha  y horas a formato datetime\n",
    "\n",
    "fmt = \"%d/%m/%Y %H:%M:%S\"\n",
    "\n",
    "def a_dt(data_frame_local, f_col, h_col, fmt):\n",
    "    s = data_frame_local[f_col].astype(str).str.strip() + \" \" + data_frame_local[h_col].astype(str).str.strip()\n",
    "    return pd.to_datetime(s, format=fmt, errors=\"coerce\")\n",
    "\n",
    "data_frame[\"fh_ret\"] = a_dt(data_frame, \"Fecha_Retiro\", \"Hora_Retiro\", fmt)\n",
    "data_frame[\"fh_arr\"] = a_dt(data_frame, \"Fecha_Arribo\", \"Hora_Arribo\", fmt)\n",
    "\n",
    "# opcional: chequear nulos\n",
    "print(\"NaT fh_ret:\", data_frame[\"fh_ret\"].isna().sum(), \"NaT fh_arr:\", data_frame[\"fh_arr\"].isna().sum())\n"
   ],
   "id": "6484f639759d18fa",
   "outputs": [
    {
     "name": "stdout",
     "output_type": "stream",
     "text": [
      "NaT fh_ret: 0 NaT fh_arr: 0\n"
     ]
    }
   ],
   "execution_count": 63
  },
  {
   "metadata": {
    "ExecuteTime": {
     "end_time": "2025-08-24T23:40:04.981474Z",
     "start_time": "2025-08-24T23:40:04.589414Z"
    }
   },
   "cell_type": "code",
   "source": [
    "# 4) Duración y calidad del viaje\n",
    "data_frame[\"dur_min\"] = (data_frame[\"fh_arr\"] - data_frame[\"fh_ret\"]).dt.total_seconds() / 60\n",
    "\n",
    "# para que un viaje sea considerado como bueno\n",
    "# se debe cumplir: 0 < duracion <= 240 min\n",
    "data_frame[\"ok\"] = (data_frame[\"dur_min\"] > 0) & (data_frame[\"dur_min\"] <= 240)\n",
    "data_frame = data_frame.loc[data_frame[\"ok\"]].copy()\n",
    "\n",
    "print(\"filas ok:\", len(data_frame), \"filas descartadas:\", (~data_frame[\"ok\"]).sum())\n"
   ],
   "id": "826234169b523674",
   "outputs": [
    {
     "name": "stdout",
     "output_type": "stream",
     "text": [
      "filas ok: 1578297 filas descartadas: 0\n"
     ]
    }
   ],
   "execution_count": 64
  },
  {
   "metadata": {
    "ExecuteTime": {
     "end_time": "2025-08-24T23:40:05.271631Z",
     "start_time": "2025-08-24T23:40:04.986989Z"
    }
   },
   "cell_type": "code",
   "source": [
    "SEED = 42\n",
    "\n",
    "# --- 4b) Gráfica histograma de duración ---\n",
    "m = data_frame.loc[data_frame[\"dur_min\"].between(0, 60)]\n",
    "if len(m) > 200_000:\n",
    "    m = m.sample(200_000, random_state=SEED)\n",
    "\n",
    "plt.figure(figsize=(8,4))\n",
    "sns.histplot(m[\"dur_min\"], bins=60)\n",
    "plt.title(\"Duración de viajes (<=60 min)\")\n",
    "plt.xlabel(\"Minutos de duración\")\n",
    "plt.ylabel(\"Cantidad de viajes\")\n",
    "plt.tight_layout()\n",
    "plt.show()"
   ],
   "id": "9c846f6ffeeb3d3",
   "outputs": [
    {
     "data": {
      "text/plain": [
       "<Figure size 800x400 with 1 Axes>"
      ],
      "image/png": "[encoded data removed]"
     },
     "metadata": {},
     "output_type": "display_data"
    }
   ],
   "execution_count": 65
  },
  {
   "metadata": {
    "ExecuteTime": {
     "end_time": "2025-08-24T23:40:08.844768Z",
     "start_time": "2025-08-24T23:40:05.279033Z"
    }
   },
   "cell_type": "code",
   "source": [
    "# 5) Estaciones a IDs numéricos\n",
    "def id_num(serie):\n",
    "    return pd.to_numeric(serie.astype(str).str.extract(r\"(\\d+)\")[0], errors=\"coerce\")\n",
    "\n",
    "data_frame[\"est_ret_id\"] = id_num(data_frame[\"Ciclo_Estacion_Retiro\"])\n",
    "data_frame[\"est_arr_id\"] = id_num(data_frame[\"Ciclo_EstacionArribo\"])\n",
    "\n",
    "# cheacar valores nulos\n",
    "print(\"nulos est_ret_id:\", data_frame[\"est_ret_id\"].isna().sum(), \"nulos est_arr_id:\", data_frame[\"est_arr_id\"].isna().sum())\n"
   ],
   "id": "bfae409c4e674f33",
   "outputs": [
    {
     "name": "stdout",
     "output_type": "stream",
     "text": [
      "nulos est_ret_id: 0 nulos est_arr_id: 0\n"
     ]
    }
   ],
   "execution_count": 66
  },
  {
   "metadata": {
    "ExecuteTime": {
     "end_time": "2025-08-24T23:40:10.187597Z",
     "start_time": "2025-08-24T23:40:08.903260Z"
    }
   },
   "cell_type": "code",
   "source": [
    "# 6) Normalizar  género\n",
    "data_frame = pd.read_csv(\"2025-06.csv\")\n",
    "\n",
    "mapa_genero = {\n",
    "    \"M\": \"Masculino\", \"H\": \"Masculino\", \"HOMBRE\": \"Masculino\",\n",
    "    \"F\": \"Femenino\", \"MUJER\": \"Femenino\",\n",
    "    \"OTRO\": \"Otro\", \"X\": \"Otro\", \"DESCONOCIDO\": \"Desconocido\"\n",
    "}\n",
    "\n",
    "genero = data_frame[\"Genero_Usuario\"].astype(str).str.upper().str.strip()\n",
    "data_frame[\"gen\"] = genero.map(mapa_genero).fillna(data_frame[\"Genero_Usuario\"])\n",
    "map_gen_cod = {\"Femenino\": 0, \"Masculino\": 1, \"Otro\": 2, \"Desconocido\": 3}\n",
    "data_frame[\"gen_cod\"] = data_frame[\"gen\"].map(map_gen_cod).fillna(3).astype(int)"
   ],
   "id": "2df4687effbe46d7",
   "outputs": [],
   "execution_count": 67
  },
  {
   "metadata": {
    "ExecuteTime": {
     "end_time": "2025-08-24T23:42:13.392647Z",
     "start_time": "2025-08-24T23:42:13.297481Z"
    }
   },
   "cell_type": "code",
   "source": [
    "# --- 6b) Gráfica cantidad de viajes por género (corregido) ---\n",
    "conteo_gen = data_frame[\"gen\"].value_counts().reset_index()\n",
    "conteo_gen.columns = [\"gen\", \"viajes\"]\n",
    "\n",
    "plt.figure(figsize=(6,4))\n",
    "sns.barplot(data=conteo_gen, x=\"gen\", y=\"viajes\", hue=\"gen\", palette=\"Set2\", legend=False)\n",
    "plt.title(\"Cantidad de viajes por género (millones de viajes)\")\n",
    "plt.xlabel(\"Género\")\n",
    "plt.ylabel(\"Número de viajes\")\n",
    "plt.tight_layout()\n",
    "plt.show()\n"
   ],
   "id": "bc44052743788639",
   "outputs": [
    {
     "data": {
      "text/plain": [
       "<Figure size 600x400 with 1 Axes>"
      ],
      "image/png": "[encoded data removed]"
     },
     "metadata": {},
     "output_type": "display_data"
    }
   ],
   "execution_count": 73
  },
  {
   "metadata": {
    "ExecuteTime": {
     "end_time": "2025-08-24T23:40:15.046144Z",
     "start_time": "2025-08-24T23:40:10.236630Z"
    }
   },
   "cell_type": "code",
   "source": [
    "# 7) Featurue engineering\n",
    "fmt = \"%d/%m/%Y %H:%M:%S\"\n",
    "\n",
    "def a_dt(data_frame_local, f_col, h_col, fmt):\n",
    "    s = data_frame_local[f_col].astype(str).str.strip() + \" \" + data_frame_local[h_col].astype(str).str.strip()\n",
    "    return pd.to_datetime(s, format=fmt, errors=\"coerce\")\n",
    "\n",
    "data_frame[\"fh_ret\"] = a_dt(data_frame, \"Fecha_Retiro\", \"Hora_Retiro\", fmt)\n",
    "data_frame[\"fh_arr\"] = a_dt(data_frame, \"Fecha_Arribo\", \"Hora_Arribo\", fmt)\n",
    "\n",
    "data_frame[\"dur_min\"] = (data_frame[\"fh_arr\"] - data_frame[\"fh_ret\"]).dt.total_seconds() / 60\n",
    "\n",
    "if data_frame[\"dur_min\"].isna().any():\n",
    "    print(\"Warning: Missing or invalid durations detected in 'dur_min'.\")\n",
    "\n",
    "#temporales\n",
    "data_frame[\"hora\"] = data_frame[\"fh_ret\"].dt.hour\n",
    "data_frame[\"dia_sem\"] = data_frame[\"fh_ret\"].dt.dayofweek\n",
    "data_frame[\"mes\"] = data_frame[\"fh_ret\"].dt.month\n",
    "\n",
    "# edad a grupos\n",
    "bins = [0, 18, 30, 45, 60, 90]\n",
    "etiquetas_edad = [\"adolescente\", \"joven\", \"adulto\", \"senor\", \"mayor\"]\n",
    "data_frame['grp_edad'] = pd.cut(data_frame[\"Edad_Usuario\"], bins=bins, labels=etiquetas_edad, right=False)\n",
    "\n",
    "#tramos de duracion del viaje\n",
    "bins_dur = [-1, 10, 20, 30, 45, 60, 120, 240]\n",
    "etiquetas_dur = [\"muy_corto\", \"corto\", \"medio\", \"largo\", \"muy_largo\", \"extenso\", \"muy_extenso\"]\n",
    "data_frame[\"grp_dur\"] = pd.cut(data_frame[\"dur_min\"], bins=bins_dur, labels=etiquetas_dur, right=True)"
   ],
   "id": "729704deb2484977",
   "outputs": [],
   "execution_count": 68
  },
  {
   "metadata": {
    "ExecuteTime": {
     "end_time": "2025-08-24T23:40:15.203231Z",
     "start_time": "2025-08-24T23:40:15.102278Z"
    }
   },
   "cell_type": "code",
   "source": [
    "# 7a) Gráfica viajes por hora\n",
    "vph = data_frame.groupby(\"hora\").size().rename(\"viajes\").reset_index()\n",
    "plt.figure(figsize=(8,4))\n",
    "sns.barplot(data=vph, x=\"hora\", y=\"viajes\")\n",
    "plt.title(\"Viajes por hora del día\")\n",
    "plt.xlabel(\"hora\")\n",
    "plt.ylabel(\"viajes\")\n",
    "plt.tight_layout()\n",
    "plt.show()"
   ],
   "id": "c4becfe9017e6234",
   "outputs": [
    {
     "data": {
      "text/plain": [
       "<Figure size 800x400 with 1 Axes>"
      ],
      "image/png": "[encoded data removed]"
     },
     "metadata": {},
     "output_type": "display_data"
    }
   ],
   "execution_count": 69
  },
  {
   "metadata": {
    "ExecuteTime": {
     "end_time": "2025-08-24T23:40:15.324591Z",
     "start_time": "2025-08-24T23:40:15.208185Z"
    }
   },
   "cell_type": "code",
   "source": [
    "# 7b) Gráfica heatmap hora x día\n",
    "tbl = (data_frame.groupby([\"dia_sem\", \"hora\"])\n",
    "          .size()\n",
    "          .rename(\"n\")\n",
    "          .reset_index()\n",
    "          .pivot(index=\"dia_sem\", columns=\"hora\", values=\"n\")\n",
    "          .fillna(0))\n",
    "\n",
    "plt.figure(figsize=(10,4))\n",
    "sns.heatmap(tbl, annot=False)\n",
    "plt.title(\"Viajes por día de semana (filas) y hora (columnas)\")\n",
    "plt.xlabel(\"hora\")\n",
    "plt.ylabel(\"día de semana (0=lun..6=dom)\")\n",
    "plt.tight_layout()\n",
    "plt.show()\n",
    "\n"
   ],
   "id": "f79819fd1c474891",
   "outputs": [
    {
     "data": {
      "text/plain": [
       "<Figure size 1000x400 with 2 Axes>"
      ],
      "image/png": "[encoded data removed]"
     },
     "metadata": {},
     "output_type": "display_data"
    }
   ],
   "execution_count": 70
  },
  {
   "metadata": {},
   "cell_type": "markdown",
   "source": "# 3. Carga\n",
   "id": "736aa2e0c163f6ec"
  },
  {
   "metadata": {
    "ExecuteTime": {
     "end_time": "2025-08-24T23:40:21.613097Z",
     "start_time": "2025-08-24T23:40:15.329376Z"
    }
   },
   "cell_type": "code",
   "source": [
    "# 8) Guardar datos limpios\n",
    "\n",
    "columnas_a_guardar = [\n",
    "    # claves\n",
    "    \"Bici\", \"est_ret_id\", \"est_arr_id\",\n",
    "    # usuario\n",
    "    \"Genero_Usuario\", \"gen\", \"gen_cod\", \"Edad_Usuario\",\n",
    "    # tiempo\n",
    "    \"fh_ret\", \"fh_arr\", \"dur_min\", \"grp_dur\",\n",
    "    \"hora\", \"dia_sem\", \"fin_sem\", \"grp_edad\",\n",
    "    \"Ciclo_Estacion_Retiro\", \"Ciclo_EstacionArribo\",\n",
    "    \"Fecha_Retiro\", \"Hora_Retiro\", \"Fecha_Arribo\", \"Hora_Arribo\"\n",
    "]\n",
    "columnas_a_guardar = [col for col in columnas_a_guardar if col in data_frame.columns]\n",
    "\n",
    "data_frame_limpio = data_frame[columnas_a_guardar].copy()\n",
    "\n",
    "ruta_salida = \"2024-06_limpio.csv\"\n",
    "data_frame_limpio.to_csv(ruta_salida, index=False)\n",
    "print(\"Datos limpios guardados en: \", os.path.abspath(ruta_salida))"
   ],
   "id": "37d4d649e9e5371b",
   "outputs": [
    {
     "name": "stdout",
     "output_type": "stream",
     "text": [
      "Datos limpios guardados en:  /home/brunene/Documents/ITESM/Module 1. Statistics for data science/2024-06_limpio.csv\n"
     ]
    }
   ],
   "execution_count": 71
  },
  {
   "metadata": {
    "ExecuteTime": {
     "end_time": "2025-08-24T23:50:40.857304Z",
     "start_time": "2025-08-24T23:50:40.848958Z"
    }
   },
   "cell_type": "code",
   "source": "data_frame_limpio",
   "id": "48facab4a024838b",
   "outputs": [
    {
     "data": {
      "text/plain": [
       "            Bici Genero_Usuario        gen  gen_cod  Edad_Usuario  \\\n",
       "0        8384919              M  Masculino        1          30.0   \n",
       "1        4275616              F   Femenino        0          34.0   \n",
       "2        8370249              M  Masculino        1          27.0   \n",
       "3        3430139              M  Masculino        1          27.0   \n",
       "4        8102766              M  Masculino        1          37.0   \n",
       "...          ...            ...        ...      ...           ...   \n",
       "1578799  3499332              M  Masculino        1          30.0   \n",
       "1578800  7103211              F   Femenino        0          42.0   \n",
       "1578801  4275772              F   Femenino        0          24.0   \n",
       "1578802  8124844              M  Masculino        1          24.0   \n",
       "1578803  5878970              M  Masculino        1          27.0   \n",
       "\n",
       "                     fh_ret              fh_arr    dur_min    grp_dur  hora  \\\n",
       "0       2025-05-31 23:52:42 2025-06-01 00:00:06   7.400000  muy_corto    23   \n",
       "1       2025-05-31 23:34:45 2025-06-01 00:00:37  25.866667      medio    23   \n",
       "2       2025-05-31 23:51:42 2025-06-01 00:01:17   9.583333  muy_corto    23   \n",
       "3       2025-05-31 23:46:27 2025-06-01 00:01:17  14.833333      corto    23   \n",
       "4       2025-05-31 23:45:14 2025-06-01 00:01:27  16.216667      corto    23   \n",
       "...                     ...                 ...        ...        ...   ...   \n",
       "1578799 2025-06-30 23:46:31 2025-06-30 23:59:20  12.816667      corto    23   \n",
       "1578800 2025-06-30 23:52:42 2025-06-30 23:59:24   6.700000  muy_corto    23   \n",
       "1578801 2025-06-30 23:48:53 2025-06-30 23:59:30  10.616667      corto    23   \n",
       "1578802 2025-06-30 23:48:32 2025-06-30 23:59:34  11.033333      corto    23   \n",
       "1578803 2025-06-30 23:55:41 2025-06-30 23:59:51   4.166667  muy_corto    23   \n",
       "\n",
       "         dia_sem grp_edad Ciclo_Estacion_Retiro Ciclo_EstacionArribo  \\\n",
       "0              5   adulto                   552                  491   \n",
       "1              5   adulto                   138                  036   \n",
       "2              5    joven                   596                  618   \n",
       "3              5    joven                   304                  578   \n",
       "4              5   adulto                   546                  052   \n",
       "...          ...      ...                   ...                  ...   \n",
       "1578799        0   adulto                   034                  570   \n",
       "1578800        0   adulto                   021                  071   \n",
       "1578801        0    joven                   547                  259   \n",
       "1578802        0    joven                   547                  259   \n",
       "1578803        0    joven                   567                  135   \n",
       "\n",
       "        Fecha_Retiro Hora_Retiro Fecha_Arribo Hora_Arribo  \n",
       "0         31/05/2025    23:52:42   01/06/2025    00:00:06  \n",
       "1         31/05/2025    23:34:45   01/06/2025    00:00:37  \n",
       "2         31/05/2025    23:51:42   01/06/2025    00:01:17  \n",
       "3         31/05/2025    23:46:27   01/06/2025    00:01:17  \n",
       "4         31/05/2025    23:45:14   01/06/2025    00:01:27  \n",
       "...              ...         ...          ...         ...  \n",
       "1578799   30/06/2025    23:46:31   30/06/2025    23:59:20  \n",
       "1578800   30/06/2025    23:52:42   30/06/2025    23:59:24  \n",
       "1578801   30/06/2025    23:48:53   30/06/2025    23:59:30  \n",
       "1578802   30/06/2025    23:48:32   30/06/2025    23:59:34  \n",
       "1578803   30/06/2025    23:55:41   30/06/2025    23:59:51  \n",
       "\n",
       "[1578804 rows x 18 columns]"
      ],
      "text/html": [
       "<div>\n",
       "<style scoped>\n",
       "    .dataframe tbody tr th:only-of-type {\n",
       "        vertical-align: middle;\n",
       "    }\n",
       "\n",
       "    .dataframe tbody tr th {\n",
       "        vertical-align: top;\n",
       "    }\n",
       "\n",
       "    .dataframe thead th {\n",
       "        text-align: right;\n",
       "    }\n",
       "</style>\n",
       "<table border=\"1\" class=\"dataframe\">\n",
       "  <thead>\n",
       "    <tr style=\"text-align: right;\">\n",
       "      <th></th>\n",
       "      <th>Bici</th>\n",
       "      <th>Genero_Usuario</th>\n",
       "      <th>gen</th>\n",
       "      <th>gen_cod</th>\n",
       "      <th>Edad_Usuario</th>\n",
       "      <th>fh_ret</th>\n",
       "      <th>fh_arr</th>\n",
       "      <th>dur_min</th>\n",
       "      <th>grp_dur</th>\n",
       "      <th>hora</th>\n",
       "      <th>dia_sem</th>\n",
       "      <th>grp_edad</th>\n",
       "      <th>Ciclo_Estacion_Retiro</th>\n",
       "      <th>Ciclo_EstacionArribo</th>\n",
       "      <th>Fecha_Retiro</th>\n",
       "      <th>Hora_Retiro</th>\n",
       "      <th>Fecha_Arribo</th>\n",
       "      <th>Hora_Arribo</th>\n",
       "    </tr>\n",
       "  </thead>\n",
       "  <tbody>\n",
       "    <tr>\n",
       "      <th>0</th>\n",
       "      <td>8384919</td>\n",
       "      <td>M</td>\n",
       "      <td>Masculino</td>\n",
       "      <td>1</td>\n",
       "      <td>30.0</td>\n",
       "      <td>2025-05-31 23:52:42</td>\n",
       "      <td>2025-06-01 00:00:06</td>\n",
       "      <td>7.400000</td>\n",
       "      <td>muy_corto</td>\n",
       "      <td>23</td>\n",
       "      <td>5</td>\n",
       "      <td>adulto</td>\n",
       "      <td>552</td>\n",
       "      <td>491</td>\n",
       "      <td>31/05/2025</td>\n",
       "      <td>23:52:42</td>\n",
       "      <td>01/06/2025</td>\n",
       "      <td>00:00:06</td>\n",
       "    </tr>\n",
       "    <tr>\n",
       "      <th>1</th>\n",
       "      <td>4275616</td>\n",
       "      <td>F</td>\n",
       "      <td>Femenino</td>\n",
       "      <td>0</td>\n",
       "      <td>34.0</td>\n",
       "      <td>2025-05-31 23:34:45</td>\n",
       "      <td>2025-06-01 00:00:37</td>\n",
       "      <td>25.866667</td>\n",
       "      <td>medio</td>\n",
       "      <td>23</td>\n",
       "      <td>5</td>\n",
       "      <td>adulto</td>\n",
       "      <td>138</td>\n",
       "      <td>036</td>\n",
       "      <td>31/05/2025</td>\n",
       "      <td>23:34:45</td>\n",
       "      <td>01/06/2025</td>\n",
       "      <td>00:00:37</td>\n",
       "    </tr>\n",
       "    <tr>\n",
       "      <th>2</th>\n",
       "      <td>8370249</td>\n",
       "      <td>M</td>\n",
       "      <td>Masculino</td>\n",
       "      <td>1</td>\n",
       "      <td>27.0</td>\n",
       "      <td>2025-05-31 23:51:42</td>\n",
       "      <td>2025-06-01 00:01:17</td>\n",
       "      <td>9.583333</td>\n",
       "      <td>muy_corto</td>\n",
       "      <td>23</td>\n",
       "      <td>5</td>\n",
       "      <td>joven</td>\n",
       "      <td>596</td>\n",
       "      <td>618</td>\n",
       "      <td>31/05/2025</td>\n",
       "      <td>23:51:42</td>\n",
       "      <td>01/06/2025</td>\n",
       "      <td>00:01:17</td>\n",
       "    </tr>\n",
       "    <tr>\n",
       "      <th>3</th>\n",
       "      <td>3430139</td>\n",
       "      <td>M</td>\n",
       "      <td>Masculino</td>\n",
       "      <td>1</td>\n",
       "      <td>27.0</td>\n",
       "      <td>2025-05-31 23:46:27</td>\n",
       "      <td>2025-06-01 00:01:17</td>\n",
       "      <td>14.833333</td>\n",
       "      <td>corto</td>\n",
       "      <td>23</td>\n",
       "      <td>5</td>\n",
       "      <td>joven</td>\n",
       "      <td>304</td>\n",
       "      <td>578</td>\n",
       "      <td>31/05/2025</td>\n",
       "      <td>23:46:27</td>\n",
       "      <td>01/06/2025</td>\n",
       "      <td>00:01:17</td>\n",
       "    </tr>\n",
       "    <tr>\n",
       "      <th>4</th>\n",
       "      <td>8102766</td>\n",
       "      <td>M</td>\n",
       "      <td>Masculino</td>\n",
       "      <td>1</td>\n",
       "      <td>37.0</td>\n",
       "      <td>2025-05-31 23:45:14</td>\n",
       "      <td>2025-06-01 00:01:27</td>\n",
       "      <td>16.216667</td>\n",
       "      <td>corto</td>\n",
       "      <td>23</td>\n",
       "      <td>5</td>\n",
       "      <td>adulto</td>\n",
       "      <td>546</td>\n",
       "      <td>052</td>\n",
       "      <td>31/05/2025</td>\n",
       "      <td>23:45:14</td>\n",
       "      <td>01/06/2025</td>\n",
       "      <td>00:01:27</td>\n",
       "    </tr>\n",
       "    <tr>\n",
       "      <th>...</th>\n",
       "      <td>...</td>\n",
       "      <td>...</td>\n",
       "      <td>...</td>\n",
       "      <td>...</td>\n",
       "      <td>...</td>\n",
       "      <td>...</td>\n",
       "      <td>...</td>\n",
       "      <td>...</td>\n",
       "      <td>...</td>\n",
       "      <td>...</td>\n",
       "      <td>...</td>\n",
       "      <td>...</td>\n",
       "      <td>...</td>\n",
       "      <td>...</td>\n",
       "      <td>...</td>\n",
       "      <td>...</td>\n",
       "      <td>...</td>\n",
       "      <td>...</td>\n",
       "    </tr>\n",
       "    <tr>\n",
       "      <th>1578799</th>\n",
       "      <td>3499332</td>\n",
       "      <td>M</td>\n",
       "      <td>Masculino</td>\n",
       "      <td>1</td>\n",
       "      <td>30.0</td>\n",
       "      <td>2025-06-30 23:46:31</td>\n",
       "      <td>2025-06-30 23:59:20</td>\n",
       "      <td>12.816667</td>\n",
       "      <td>corto</td>\n",
       "      <td>23</td>\n",
       "      <td>0</td>\n",
       "      <td>adulto</td>\n",
       "      <td>034</td>\n",
       "      <td>570</td>\n",
       "      <td>30/06/2025</td>\n",
       "      <td>23:46:31</td>\n",
       "      <td>30/06/2025</td>\n",
       "      <td>23:59:20</td>\n",
       "    </tr>\n",
       "    <tr>\n",
       "      <th>1578800</th>\n",
       "      <td>7103211</td>\n",
       "      <td>F</td>\n",
       "      <td>Femenino</td>\n",
       "      <td>0</td>\n",
       "      <td>42.0</td>\n",
       "      <td>2025-06-30 23:52:42</td>\n",
       "      <td>2025-06-30 23:59:24</td>\n",
       "      <td>6.700000</td>\n",
       "      <td>muy_corto</td>\n",
       "      <td>23</td>\n",
       "      <td>0</td>\n",
       "      <td>adulto</td>\n",
       "      <td>021</td>\n",
       "      <td>071</td>\n",
       "      <td>30/06/2025</td>\n",
       "      <td>23:52:42</td>\n",
       "      <td>30/06/2025</td>\n",
       "      <td>23:59:24</td>\n",
       "    </tr>\n",
       "    <tr>\n",
       "      <th>1578801</th>\n",
       "      <td>4275772</td>\n",
       "      <td>F</td>\n",
       "      <td>Femenino</td>\n",
       "      <td>0</td>\n",
       "      <td>24.0</td>\n",
       "      <td>2025-06-30 23:48:53</td>\n",
       "      <td>2025-06-30 23:59:30</td>\n",
       "      <td>10.616667</td>\n",
       "      <td>corto</td>\n",
       "      <td>23</td>\n",
       "      <td>0</td>\n",
       "      <td>joven</td>\n",
       "      <td>547</td>\n",
       "      <td>259</td>\n",
       "      <td>30/06/2025</td>\n",
       "      <td>23:48:53</td>\n",
       "      <td>30/06/2025</td>\n",
       "      <td>23:59:30</td>\n",
       "    </tr>\n",
       "    <tr>\n",
       "      <th>1578802</th>\n",
       "      <td>8124844</td>\n",
       "      <td>M</td>\n",
       "      <td>Masculino</td>\n",
       "      <td>1</td>\n",
       "      <td>24.0</td>\n",
       "      <td>2025-06-30 23:48:32</td>\n",
       "      <td>2025-06-30 23:59:34</td>\n",
       "      <td>11.033333</td>\n",
       "      <td>corto</td>\n",
       "      <td>23</td>\n",
       "      <td>0</td>\n",
       "      <td>joven</td>\n",
       "      <td>547</td>\n",
       "      <td>259</td>\n",
       "      <td>30/06/2025</td>\n",
       "      <td>23:48:32</td>\n",
       "      <td>30/06/2025</td>\n",
       "      <td>23:59:34</td>\n",
       "    </tr>\n",
       "    <tr>\n",
       "      <th>1578803</th>\n",
       "      <td>5878970</td>\n",
       "      <td>M</td>\n",
       "      <td>Masculino</td>\n",
       "      <td>1</td>\n",
       "      <td>27.0</td>\n",
       "      <td>2025-06-30 23:55:41</td>\n",
       "      <td>2025-06-30 23:59:51</td>\n",
       "      <td>4.166667</td>\n",
       "      <td>muy_corto</td>\n",
       "      <td>23</td>\n",
       "      <td>0</td>\n",
       "      <td>joven</td>\n",
       "      <td>567</td>\n",
       "      <td>135</td>\n",
       "      <td>30/06/2025</td>\n",
       "      <td>23:55:41</td>\n",
       "      <td>30/06/2025</td>\n",
       "      <td>23:59:51</td>\n",
       "    </tr>\n",
       "  </tbody>\n",
       "</table>\n",
       "<p>1578804 rows × 18 columns</p>\n",
       "</div>"
      ]
     },
     "execution_count": 80,
     "metadata": {},
     "output_type": "execute_result"
    }
   ],
   "execution_count": 80
  }
 ],
 "metadata": {
  "kernelspec": {
   "display_name": "Python 3",
   "language": "python",
   "name": "python3"
  },
  "language_info": {
   "codemirror_mode": {
    "name": "ipython",
    "version": 2
   },
   "file_extension": ".py",
   "mimetype": "text/x-python",
   "name": "python",
   "nbconvert_exporter": "python",
   "pygments_lexer": "ipython2",
   "version": "2.7.6"
  }
 },
 "nbformat": 4,
 "nbformat_minor": 5
}
